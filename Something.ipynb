{
 "cells": [
  {
   "cell_type": "code",
   "execution_count": 1,
   "metadata": {},
   "outputs": [
    {
     "name": "stdin",
     "output_type": "stream",
     "text": [
      "Enter your first integer number  5\n",
      "Enter your second integer number  -10\n"
     ]
    },
    {
     "name": "stdout",
     "output_type": "stream",
     "text": [
      "Sum of two integers -5\n",
      "Subtraction of two integers 15\n",
      "Product of two integers -50\n"
     ]
    }
   ],
   "source": [
    "firstInt = int(input('Enter your first integer number '))\n",
    "secondInt = int(input('Enter your second integer number '))\n",
    "sum = firstInt + secondInt\n",
    "subtraction = firstInt - secondInt\n",
    "mult = firstInt * secondInt\n",
    "print(\"Sum of two integers\",sum)\n",
    "print(\"Subtraction of two integers\",subtraction)\n",
    "print(\"Product of two integers\",mult)"
   ]
  },
  {
   "cell_type": "code",
   "execution_count": null,
   "metadata": {},
   "outputs": [],
   "source": []
  }
 ],
 "metadata": {
  "kernelspec": {
   "display_name": "Python 3",
   "language": "python",
   "name": "python3"
  },
  "language_info": {
   "codemirror_mode": {
    "name": "ipython",
    "version": 3
   },
   "file_extension": ".py",
   "mimetype": "text/x-python",
   "name": "python",
   "nbconvert_exporter": "python",
   "pygments_lexer": "ipython3",
   "version": "3.8.3"
  }
 },
 "nbformat": 4,
 "nbformat_minor": 4
}
